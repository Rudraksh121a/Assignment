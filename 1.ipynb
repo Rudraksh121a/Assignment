{
 "cells": [
  {
   "cell_type": "raw",
   "id": "a531d1d9-2632-4131-bb27-876612b460b4",
   "metadata": {},
   "source": [
    " Q1. Explain Class and Object with respect to Object-Oriented Programming. Give a suitable example.\n",
    " \n",
    " class- it is blueprint which defines some properties.\n",
    " object- it is an instance of a class which has those property"
   ]
  },
  {
   "cell_type": "code",
   "execution_count": 1,
   "id": "f82d9f39-f284-4b52-9139-fa0c2f2d46f6",
   "metadata": {},
   "outputs": [
    {
     "name": "stdout",
     "output_type": "stream",
     "text": [
      "Welcome to pw skills\n"
     ]
    }
   ],
   "source": [
    "class pwskill:\n",
    "    def welcome_msg(self):\n",
    "        print(\"Welcome to pw skills\")\n",
    "\n",
    "Rohan = pwskill()\n",
    "Rohan.welcome_msg()"
   ]
  },
  {
   "cell_type": "raw",
   "id": "0c361cba-e658-455b-a6a9-3bf1e2da4b8c",
   "metadata": {},
   "source": [
    "Q2. Name the four pillars of OOPs.\n",
    "\n",
    "- Encapsulation \n",
    "- Abstracion\n",
    "- Inheritance\n",
    "-Polymorphism\n"
   ]
  },
  {
   "cell_type": "raw",
   "id": "440e84f1-0c66-4356-846c-0784ab76f5d2",
   "metadata": {},
   "source": [
    "Q3. Explain why the __init__() function is used. Give a suitable example.\n",
    "\n",
    "\n",
    "- it work as constructor or we can say it take input"
   ]
  },
  {
   "cell_type": "code",
   "execution_count": 8,
   "id": "2aaf4ef9-ed02-4fd2-9b3f-9b2b0593e001",
   "metadata": {},
   "outputs": [
    {
     "data": {
      "text/plain": [
       "45"
      ]
     },
     "execution_count": 8,
     "metadata": {},
     "output_type": "execute_result"
    }
   ],
   "source": [
    "class test:\n",
    "    \n",
    "    def __init__(self,a,b):\n",
    "        \n",
    "        self.a=a\n",
    "        self.b=b\n",
    "\n",
    "t=test(45,45)\n",
    "t.a"
   ]
  },
  {
   "cell_type": "raw",
   "id": "e1ab7b04-5629-4445-8dab-d7e3f99552a9",
   "metadata": {},
   "source": [
    "Q4. Why self is used in OOPs?\n",
    "\n",
    "- because of reuse"
   ]
  },
  {
   "cell_type": "raw",
   "id": "9f269580-7c90-43cd-b1c8-52ca5efc1d0b",
   "metadata": {},
   "source": [
    "Q5. What is inheritance? Give an example for each type of inheritance.\n",
    "\n",
    "\n",
    "- it help to get the property of another class in our class \n",
    "\n",
    "types -\n",
    "multiple inheritance\n",
    "multilevel inheritance\n",
    "single inheritance"
   ]
  },
  {
   "cell_type": "code",
   "execution_count": 9,
   "id": "e101835b-9670-4ba7-9f41-c6701277c9d1",
   "metadata": {},
   "outputs": [
    {
     "data": {
      "text/plain": [
       "'This is my first class '"
      ]
     },
     "execution_count": 9,
     "metadata": {},
     "output_type": "execute_result"
    }
   ],
   "source": [
    " #single inheritance\n",
    "class test:\n",
    "    \n",
    "    def test_meth(self):\n",
    "        return \"This is my first class \"\n",
    "\n",
    "class child_test(test): # call above class(test)\n",
    "     pass\n",
    "\n",
    "child_test_obj = child_test()\n",
    "child_test_obj.test_meth()"
   ]
  },
  {
   "cell_type": "code",
   "execution_count": 10,
   "id": "b59f11cb-9ff4-41d7-a3ab-13b7603fb2bb",
   "metadata": {},
   "outputs": [
    {
     "data": {
      "text/plain": [
       "'This is my meth from class1'"
      ]
     },
     "execution_count": 10,
     "metadata": {},
     "output_type": "execute_result"
    }
   ],
   "source": [
    "## multilevel inheritance\n",
    "class class1:\n",
    "    \n",
    "    def  test_class(self):\n",
    "        return \"This is my meth from class1\"\n",
    "class class2(class1):\n",
    "    def test_class2(self):\n",
    "        return \"This is my meth from class2\"\n",
    "class class3(class2):\n",
    "    pass\n",
    "obj_class3 =class3()    \n",
    "obj_class3.test_class()"
   ]
  },
  {
   "cell_type": "code",
   "execution_count": 24,
   "id": "e1628e14-f795-4ece-8ca8-e0904827c2ec",
   "metadata": {},
   "outputs": [
    {
     "data": {
      "text/plain": [
       "'hi world'"
      ]
     },
     "execution_count": 24,
     "metadata": {},
     "output_type": "execute_result"
    }
   ],
   "source": [
    "## multiple inheritance\n",
    "\n",
    "class test:\n",
    "    def c1(self):\n",
    "        return \"hi\"\n",
    "    \n",
    "class test2:\n",
    "    def c2(self):\n",
    "        return \" world\"\n",
    "    \n",
    "class test3(test,test2):\n",
    "    pass\n",
    "\n",
    "a=test3()\n",
    "a.c1() + a.c2()"
   ]
  },
  {
   "cell_type": "code",
   "execution_count": null,
   "id": "5c8610a2-97b4-464b-9bcd-8724ba513242",
   "metadata": {},
   "outputs": [],
   "source": []
  }
 ],
 "metadata": {
  "kernelspec": {
   "display_name": "Python 3 (ipykernel)",
   "language": "python",
   "name": "python3"
  },
  "language_info": {
   "codemirror_mode": {
    "name": "ipython",
    "version": 3
   },
   "file_extension": ".py",
   "mimetype": "text/x-python",
   "name": "python",
   "nbconvert_exporter": "python",
   "pygments_lexer": "ipython3",
   "version": "3.10.8"
  }
 },
 "nbformat": 4,
 "nbformat_minor": 5
}
