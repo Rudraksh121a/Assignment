{
 "cells": [
  {
   "cell_type": "raw",
   "id": "1f983ee9-31b9-46d3-a99e-42ef88c86ab1",
   "metadata": {},
   "source": [
    "Q1. Create one variable containing following type of data:\n",
    "(i) string\n",
    "(ii) list\n",
    "(iii) float\n",
    "(iv) tuple"
   ]
  },
  {
   "cell_type": "code",
   "execution_count": 2,
   "id": "891a73fa-87f9-47f3-8ef4-95f391049072",
   "metadata": {},
   "outputs": [],
   "source": [
    "variable= \"Hello\",[1,2,3.45],(34,54,),3.45"
   ]
  },
  {
   "cell_type": "raw",
   "id": "12a24553-3400-4fe8-94cc-72a0e985aba7",
   "metadata": {},
   "source": [
    "Q2. Given are some following variables containing data:\n",
    "(i) var1 = ‘ ‘\n",
    "(ii) var2 = ‘[ DS , ML , Python]’\n",
    "(iii) var3 = [ ‘DS’ , ’ML’ , ‘Python’ ]\n",
    "(iv) var4 = 1.\n",
    "What will be the data type of the above given variable."
   ]
  },
  {
   "cell_type": "code",
   "execution_count": 3,
   "id": "c963b523-e420-4aad-97a8-6ba92c9753af",
   "metadata": {},
   "outputs": [
    {
     "name": "stdout",
     "output_type": "stream",
     "text": [
      "<class 'str'>\n",
      "<class 'str'>\n",
      "<class 'list'>\n",
      "<class 'int'>\n"
     ]
    }
   ],
   "source": [
    "var1 = ''\n",
    "var2 = '[ DS , ML , Python]'\n",
    "var3 = [ 'DS' , 'ML' , 'Python' ]\n",
    "var4 = 1\n",
    "\n",
    "print(type(var1))\n",
    "print(type(var2))\n",
    "print(type(var3))\n",
    "print(type(var4))"
   ]
  },
  {
   "cell_type": "raw",
   "id": "e2dd0f80-aacf-4255-8049-259fa5c8141c",
   "metadata": {},
   "source": [
    "Q3. Explain the use of the following operators using an example:\n",
    "(i) /\n",
    "(ii) %\n",
    "(iii) //\n",
    "(iv) **"
   ]
  },
  {
   "cell_type": "code",
   "execution_count": 4,
   "id": "b41d058d-b717-4cab-9ff1-de4bebdbfc34",
   "metadata": {},
   "outputs": [
    {
     "name": "stdout",
     "output_type": "stream",
     "text": [
      "Division:  1.25\n",
      "Floor Division:  1\n",
      "Modulo:  2\n",
      "Power:  100000000\n"
     ]
    }
   ],
   "source": [
    "a = 10\n",
    "b = 8\n",
    "\n",
    "\n",
    "\n",
    "\n",
    "# division\n",
    "print ('Division: ', a / b) \n",
    "\n",
    "# floor division\n",
    "print ('Floor Division: ', a // b)\n",
    "\n",
    "# modulo\n",
    "print ('Modulo: ', a % b)  \n",
    "\n",
    "# a to the power b\n",
    "print ('Power: ', a ** b)   "
   ]
  },
  {
   "cell_type": "raw",
   "id": "aad15c08-c498-4b2f-831e-7b849e051531",
   "metadata": {},
   "source": [
    "Q4. Create a list of length 10 of your choice containing multiple types of data. Using for loop print the\n",
    "element and its data type."
   ]
  },
  {
   "cell_type": "code",
   "execution_count": 5,
   "id": "4275a63b-71cd-48e8-9183-50eb309178a1",
   "metadata": {},
   "outputs": [
    {
     "name": "stdout",
     "output_type": "stream",
     "text": [
      "369699195340800\n"
     ]
    }
   ],
   "source": [
    "list=[5,96,58,45,86,78,26,36,47]\n",
    "result = 1\n",
    "for i in list :\n",
    "    result = result * i\n",
    "print (result)\n"
   ]
  },
  {
   "cell_type": "raw",
   "id": "e72f80bc-470a-4e93-aa42-a8d7c5a05fb7",
   "metadata": {},
   "source": [
    "Q5. Using a while loop, verify if the number A is purely divisible by number B and if so then how many\n",
    "times it can be divisible."
   ]
  },
  {
   "cell_type": "code",
   "execution_count": 2,
   "id": "d04e2393-e60d-43c3-9500-97eeefbc5b58",
   "metadata": {},
   "outputs": [
    {
     "name": "stdin",
     "output_type": "stream",
     "text": [
      " 45\n",
      " 45\n"
     ]
    },
    {
     "name": "stdout",
     "output_type": "stream",
     "text": [
      "1.0\n"
     ]
    }
   ],
   "source": [
    "a=int(input())\n",
    "b=int(input())\n",
    "while (a%b==0): \n",
    "        c=a/b\n",
    "        print(c)\n",
    "        break\n",
    "        "
   ]
  },
  {
   "cell_type": "markdown",
   "id": "55734e45-a5fc-4ea9-a2fb-1ca3a1fc5fb1",
   "metadata": {},
   "source": [
    "#### Create a list containing 25 int type data. Using for loop and if-else condition print if the element is divisible by 3 or not."
   ]
  },
  {
   "cell_type": "code",
   "execution_count": 3,
   "id": "cdf223a0-37ad-45e4-8366-b346904cbbbb",
   "metadata": {},
   "outputs": [
    {
     "name": "stdout",
     "output_type": "stream",
     "text": [
      "0\n",
      "Divisible\n",
      "1\n",
      " Not Divisible\n",
      "2\n",
      " Not Divisible\n",
      "3\n",
      "Divisible\n",
      "4\n",
      " Not Divisible\n",
      "5\n",
      " Not Divisible\n",
      "6\n",
      "Divisible\n",
      "7\n",
      " Not Divisible\n",
      "8\n",
      " Not Divisible\n",
      "9\n",
      "Divisible\n",
      "10\n",
      " Not Divisible\n",
      "11\n",
      " Not Divisible\n",
      "12\n",
      "Divisible\n",
      "13\n",
      " Not Divisible\n",
      "14\n",
      " Not Divisible\n",
      "15\n",
      "Divisible\n",
      "16\n",
      " Not Divisible\n",
      "17\n",
      " Not Divisible\n",
      "18\n",
      "Divisible\n",
      "19\n",
      " Not Divisible\n",
      "20\n",
      " Not Divisible\n",
      "21\n",
      "Divisible\n",
      "22\n",
      " Not Divisible\n",
      "23\n",
      " Not Divisible\n",
      "24\n",
      "Divisible\n",
      "25\n",
      " Not Divisible\n"
     ]
    }
   ],
   "source": [
    "list= [*range(0,26,1)]\n",
    "for i in list:\n",
    "    print(i)\n",
    "    if (list[i]%3 == 0) :\n",
    "        print(\"Divisible\")\n",
    "      \n",
    "    else:\n",
    "        print(' Not Divisible')\n"
   ]
  },
  {
   "cell_type": "markdown",
   "id": "21508579-4962-4d5b-beb0-8b40d22d4bc3",
   "metadata": {},
   "source": [
    "### Q7. What do you understand about mutable and immutable data types? Give examples for both showing this property."
   ]
  },
  {
   "cell_type": "markdown",
   "id": "93b97a89-3093-42e9-8526-24dddbbc2ee5",
   "metadata": {},
   "source": [
    "#### mutable   \n",
    "   we can change the value example list\n"
   ]
  },
  {
   "cell_type": "raw",
   "id": "5d83e81b-3197-49a8-bf01-15f8645e8c14",
   "metadata": {},
   "source": [
    "### mutable   \n",
    "   we can change the value example list\n"
   ]
  },
  {
   "cell_type": "code",
   "execution_count": 5,
   "id": "8a86f290-0d38-4b2a-b1b1-d9d663d61426",
   "metadata": {},
   "outputs": [],
   "source": [
    "l=[23,45,43,57,34]\n"
   ]
  },
  {
   "cell_type": "code",
   "execution_count": 7,
   "id": "7b4ef942-2190-4fac-90e3-f699d34990d6",
   "metadata": {},
   "outputs": [
    {
     "data": {
      "text/plain": [
       "[23, 45, 43, 57, 34]"
      ]
     },
     "execution_count": 7,
     "metadata": {},
     "output_type": "execute_result"
    }
   ],
   "source": [
    "l"
   ]
  },
  {
   "cell_type": "code",
   "execution_count": 9,
   "id": "32f4d4da-3551-4625-a590-abdc6e5b321e",
   "metadata": {},
   "outputs": [],
   "source": [
    "l[0]=485"
   ]
  },
  {
   "cell_type": "code",
   "execution_count": 10,
   "id": "8718002e-fd43-4186-a757-e7267faf9372",
   "metadata": {},
   "outputs": [
    {
     "data": {
      "text/plain": [
       "[485, 45, 43, 57, 34]"
      ]
     },
     "execution_count": 10,
     "metadata": {},
     "output_type": "execute_result"
    }
   ],
   "source": [
    "l"
   ]
  },
  {
   "cell_type": "markdown",
   "id": "2617a397-c586-4d01-9b1b-b3a3440518c2",
   "metadata": {},
   "source": [
    "### immutable\n",
    "cant be change the value example string "
   ]
  },
  {
   "cell_type": "code",
   "execution_count": 12,
   "id": "38c3c093-a176-4641-862d-55dbb35db3e6",
   "metadata": {},
   "outputs": [],
   "source": [
    "s ='HELLO'\n"
   ]
  },
  {
   "cell_type": "code",
   "execution_count": 19,
   "id": "91bdda11-214f-4ffe-bd29-cd87ff4c22d0",
   "metadata": {},
   "outputs": [
    {
     "ename": "NameError",
     "evalue": "name 'r' is not defined",
     "output_type": "error",
     "traceback": [
      "\u001b[0;31m---------------------------------------------------------------------------\u001b[0m",
      "\u001b[0;31mNameError\u001b[0m                                 Traceback (most recent call last)",
      "Cell \u001b[0;32mIn[19], line 1\u001b[0m\n\u001b[0;32m----> 1\u001b[0m s[\u001b[38;5;241m2\u001b[39m] \u001b[38;5;241m=\u001b[39m \u001b[43mr\u001b[49m\n",
      "\u001b[0;31mNameError\u001b[0m: name 'r' is not defined"
     ]
    }
   ],
   "source": [
    "s[2] = r"
   ]
  },
  {
   "cell_type": "code",
   "execution_count": null,
   "id": "74872d82-bf10-4f97-ac92-7b024eeb33a7",
   "metadata": {},
   "outputs": [],
   "source": []
  }
 ],
 "metadata": {
  "kernelspec": {
   "display_name": "Python 3 (ipykernel)",
   "language": "python",
   "name": "python3"
  },
  "language_info": {
   "codemirror_mode": {
    "name": "ipython",
    "version": 3
   },
   "file_extension": ".py",
   "mimetype": "text/x-python",
   "name": "python",
   "nbconvert_exporter": "python",
   "pygments_lexer": "ipython3",
   "version": "3.10.8"
  }
 },
 "nbformat": 4,
 "nbformat_minor": 5
}
