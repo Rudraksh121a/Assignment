{
 "cells": [
  {
   "cell_type": "raw",
   "id": "6692203d-f543-4c3f-8483-8d63631ed29e",
   "metadata": {},
   "source": [
    "Q1. What is Abstraction in OOps? Explain with an example.\n",
    "\n",
    "- it work as a skeleton"
   ]
  },
  {
   "cell_type": "code",
   "execution_count": 24,
   "id": "011cb96b-c044-4685-8c89-cf309bf9cf1c",
   "metadata": {},
   "outputs": [],
   "source": [
    "import abc\n",
    "class pwskills:\n",
    "    \n",
    "    @abc.abstractmethod\n",
    "    def students_details(self):\n",
    "        pass\n",
    "    \n",
    "    @abc.abstractmethod\n",
    "    def student_assignment(self):\n",
    "        pass\n",
    "    \n",
    "    @abc.abstractmethod\n",
    "    def student_marks(self):\n",
    "        pass\n",
    "\n",
    "class student_details(pwskills):\n",
    "    def student_details(self):\n",
    "        return \"This is a math class fro taking student details\"\n",
    "    \n",
    "    def student_assignment(self):\n",
    "        return \"This is meth for a assignment details for a perticualt student\"\n",
    "    \n",
    "    \n",
    "class student_details(pwskills):\n",
    "    def student_details(self):\n",
    "        return \"This is a math class fro taking student details\"\n",
    "    \n",
    "    def student_assignment(self):\n",
    "        return \"This is meth for a assignment details for a perticualt student\" \n",
    "    \n",
    "    \n",
    "class student_details(pwskills):\n",
    "    def student_details(self):\n",
    "        return \"This is a math class fro taking student details\"\n",
    "    \n",
    "    def student_assignment(self):\n",
    "        return \"This is meth for a assignment details for a perticualt student\"\n",
    "\n",
    "        \n",
    "dsm=data_science_master()\n",
    "dsm.students_details()"
   ]
  },
  {
   "cell_type": "code",
   "execution_count": 25,
   "id": "d7b86665-21f0-438a-b321-67a83d6081b6",
   "metadata": {},
   "outputs": [
    {
     "ename": "NameError",
     "evalue": "name 'data_science_master' is not defined",
     "output_type": "error",
     "traceback": [
      "\u001b[0;31m---------------------------------------------------------------------------\u001b[0m",
      "\u001b[0;31mNameError\u001b[0m                                 Traceback (most recent call last)",
      "Cell \u001b[0;32mIn[25], line 1\u001b[0m\n\u001b[0;32m----> 1\u001b[0m dsm\u001b[38;5;241m=\u001b[39m\u001b[43mdata_science_master\u001b[49m()\n\u001b[1;32m      2\u001b[0m dsm\u001b[38;5;241m.\u001b[39mstudents_details()\n",
      "\u001b[0;31mNameError\u001b[0m: name 'data_science_master' is not defined"
     ]
    }
   ],
   "source": []
  },
  {
   "cell_type": "raw",
   "id": "4b1c69bb-32da-4e7a-b8fc-c3e9fdd320ff",
   "metadata": {},
   "source": [
    "Q2. Differentiate between Abstraction and Encapsulation. Explain with an example.\n",
    "\n",
    "abstraction - it give a skeleton\n",
    "encapsulation - it protect the value of the class\n",
    "\n",
    "example same as above\n"
   ]
  },
  {
   "cell_type": "raw",
   "id": "eb1514c5-652e-43a7-9d2b-e24d51c100d2",
   "metadata": {},
   "source": [
    "Q3. What is abc module in python? Why is it used?\n",
    "\n",
    "-it help to abstact classes"
   ]
  },
  {
   "cell_type": "raw",
   "id": "a4f91284-f087-43dd-aad9-2a110e90db9c",
   "metadata": {},
   "source": [
    "Q4. How can we achieve data abstraction?\n",
    "\n",
    "- by using abc module"
   ]
  },
  {
   "cell_type": "raw",
   "id": "e73a6de8-a43c-4616-92d0-e540ec33d0e5",
   "metadata": {},
   "source": [
    "Q5. Can we create an instance of an abstract class? Explain your answer.\n",
    "_ no because it absract class mean gove blueprint for other classes"
   ]
  }
 ],
 "metadata": {
  "kernelspec": {
   "display_name": "Python 3 (ipykernel)",
   "language": "python",
   "name": "python3"
  },
  "language_info": {
   "codemirror_mode": {
    "name": "ipython",
    "version": 3
   },
   "file_extension": ".py",
   "mimetype": "text/x-python",
   "name": "python",
   "nbconvert_exporter": "python",
   "pygments_lexer": "ipython3",
   "version": "3.10.8"
  }
 },
 "nbformat": 4,
 "nbformat_minor": 5
}
