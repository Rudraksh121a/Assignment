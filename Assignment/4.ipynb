{
 "cells": [
  {
   "cell_type": "raw",
   "id": "80e7edf1-15b2-4dba-9f3a-683014cc98b6",
   "metadata": {},
   "source": [
    "Q4. Create a list of length 10 of your choice containing multiple types of data. Using for loop print the\n",
    "element and its data type."
   ]
  },
  {
   "cell_type": "code",
   "execution_count": 17,
   "id": "cf69c29b-3f2c-406d-8692-cf4b18b3552c",
   "metadata": {},
   "outputs": [
    {
     "name": "stdout",
     "output_type": "stream",
     "text": [
      "369699195340800\n"
     ]
    }
   ],
   "source": [
    "list=[5,96,58,45,86,78,26,36,47]\n",
    "result = 1\n",
    "for i in list :\n",
    "    result = result * i\n",
    "print (result)\n"
   ]
  },
  {
   "cell_type": "code",
   "execution_count": null,
   "id": "b47a2a93-b7ad-4621-9e82-96670e414839",
   "metadata": {},
   "outputs": [],
   "source": []
  }
 ],
 "metadata": {
  "kernelspec": {
   "display_name": "Python 3 (ipykernel)",
   "language": "python",
   "name": "python3"
  },
  "language_info": {
   "codemirror_mode": {
    "name": "ipython",
    "version": 3
   },
   "file_extension": ".py",
   "mimetype": "text/x-python",
   "name": "python",
   "nbconvert_exporter": "python",
   "pygments_lexer": "ipython3",
   "version": "3.10.8"
  }
 },
 "nbformat": 4,
 "nbformat_minor": 5
}
