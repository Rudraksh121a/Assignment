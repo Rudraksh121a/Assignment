{
 "cells": [
  {
   "cell_type": "markdown",
   "id": "a90d009c-de02-4cf1-a885-0b1f5820fbbb",
   "metadata": {},
   "source": [
    "#### Create a list containing 25 int type data. Using for loop and if-else condition print if the element is divisible by 3 or not."
   ]
  },
  {
   "cell_type": "code",
   "execution_count": 12,
   "id": "fedfee40-1e4d-4c34-b407-3319f214f1d5",
   "metadata": {},
   "outputs": [
    {
     "name": "stdout",
     "output_type": "stream",
     "text": [
      "0\n",
      "Divisible\n",
      "1\n",
      " Not Divisible\n",
      "2\n",
      " Not Divisible\n",
      "3\n",
      "Divisible\n",
      "4\n",
      " Not Divisible\n",
      "5\n",
      " Not Divisible\n",
      "6\n",
      "Divisible\n",
      "7\n",
      " Not Divisible\n",
      "8\n",
      " Not Divisible\n",
      "9\n",
      "Divisible\n",
      "10\n",
      " Not Divisible\n",
      "11\n",
      " Not Divisible\n",
      "12\n",
      "Divisible\n",
      "13\n",
      " Not Divisible\n",
      "14\n",
      " Not Divisible\n",
      "15\n",
      "Divisible\n",
      "16\n",
      " Not Divisible\n",
      "17\n",
      " Not Divisible\n",
      "18\n",
      "Divisible\n",
      "19\n",
      " Not Divisible\n",
      "20\n",
      " Not Divisible\n",
      "21\n",
      "Divisible\n",
      "22\n",
      " Not Divisible\n",
      "23\n",
      " Not Divisible\n",
      "24\n",
      "Divisible\n",
      "25\n",
      " Not Divisible\n"
     ]
    }
   ],
   "source": [
    "list= [*range(0,26,1)]\n",
    "for i in list:\n",
    "    print(i)\n",
    "    if (list[i]%3 == 0) :\n",
    "        print(\"Divisible\")\n",
    "      \n",
    "    else:\n",
    "        print(' Not Divisible')\n"
   ]
  },
  {
   "cell_type": "code",
   "execution_count": null,
   "id": "67e66acd-e8ca-445a-8d92-eb6322547153",
   "metadata": {},
   "outputs": [],
   "source": []
  },
  {
   "cell_type": "code",
   "execution_count": null,
   "id": "ea7f4914-438c-40cd-b408-11e8d50a2e7d",
   "metadata": {},
   "outputs": [],
   "source": []
  }
 ],
 "metadata": {
  "kernelspec": {
   "display_name": "Python 3 (ipykernel)",
   "language": "python",
   "name": "python3"
  },
  "language_info": {
   "codemirror_mode": {
    "name": "ipython",
    "version": 3
   },
   "file_extension": ".py",
   "mimetype": "text/x-python",
   "name": "python",
   "nbconvert_exporter": "python",
   "pygments_lexer": "ipython3",
   "version": "3.10.8"
  }
 },
 "nbformat": 4,
 "nbformat_minor": 5
}
