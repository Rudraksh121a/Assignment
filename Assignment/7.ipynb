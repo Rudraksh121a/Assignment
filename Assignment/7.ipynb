{
 "cells": [
  {
   "cell_type": "markdown",
   "id": "3af35d3e-7336-4f2f-a124-0438a1bb3e81",
   "metadata": {},
   "source": [
    "### Q7. What do you understand about mutable and immutable data types? Give examples for both showing this property."
   ]
  },
  {
   "cell_type": "markdown",
   "id": "3e2f2db5-ca2a-4b2d-833d-607cd0f3963b",
   "metadata": {},
   "source": [
    "### mutable   \n",
    "   we can change the value example list\n"
   ]
  },
  {
   "cell_type": "code",
   "execution_count": 1,
   "id": "70a27c46-626a-4bac-9fcf-ad4bfc8ab450",
   "metadata": {},
   "outputs": [],
   "source": [
    "l=[23,45,43,57,34]\n"
   ]
  },
  {
   "cell_type": "code",
   "execution_count": 2,
   "id": "a7a9cd05-323d-4c18-aa41-218ea4e59cb4",
   "metadata": {},
   "outputs": [
    {
     "data": {
      "text/plain": [
       "[23, 45, 43, 57, 34]"
      ]
     },
     "execution_count": 2,
     "metadata": {},
     "output_type": "execute_result"
    }
   ],
   "source": [
    "l"
   ]
  },
  {
   "cell_type": "code",
   "execution_count": 3,
   "id": "bbde824a-28bd-4c1f-9b98-79f95ddb8632",
   "metadata": {},
   "outputs": [
    {
     "data": {
      "text/plain": [
       "23"
      ]
     },
     "execution_count": 3,
     "metadata": {},
     "output_type": "execute_result"
    }
   ],
   "source": [
    "l[0]"
   ]
  },
  {
   "cell_type": "code",
   "execution_count": 4,
   "id": "a490634d-1b32-45ec-93c7-c4e7593add25",
   "metadata": {},
   "outputs": [],
   "source": [
    "l[0] = 33"
   ]
  },
  {
   "cell_type": "code",
   "execution_count": 5,
   "id": "0ba829c8-1853-45bb-b777-906be97d1bb8",
   "metadata": {},
   "outputs": [
    {
     "data": {
      "text/plain": [
       "[33, 45, 43, 57, 34]"
      ]
     },
     "execution_count": 5,
     "metadata": {},
     "output_type": "execute_result"
    }
   ],
   "source": [
    "l"
   ]
  },
  {
   "cell_type": "markdown",
   "id": "688e7eda-f593-4020-bbba-20ff0b1237a6",
   "metadata": {},
   "source": [
    "### immutable\n",
    "cant be change the value example string "
   ]
  },
  {
   "cell_type": "code",
   "execution_count": 6,
   "id": "2638d973-ebc9-45dd-b5cc-0117e0d3cd26",
   "metadata": {},
   "outputs": [],
   "source": [
    "a='Hello'\n"
   ]
  },
  {
   "cell_type": "code",
   "execution_count": 7,
   "id": "2fc62eec-2bd9-4e30-b06b-615ba7db84e4",
   "metadata": {},
   "outputs": [
    {
     "data": {
      "text/plain": [
       "'Hello'"
      ]
     },
     "execution_count": 7,
     "metadata": {},
     "output_type": "execute_result"
    }
   ],
   "source": [
    "a\n"
   ]
  },
  {
   "cell_type": "code",
   "execution_count": null,
   "id": "b90ed009-7838-4984-bf99-4436dee3505b",
   "metadata": {},
   "outputs": [],
   "source": []
  }
 ],
 "metadata": {
  "kernelspec": {
   "display_name": "Python 3 (ipykernel)",
   "language": "python",
   "name": "python3"
  },
  "language_info": {
   "codemirror_mode": {
    "name": "ipython",
    "version": 3
   },
   "file_extension": ".py",
   "mimetype": "text/x-python",
   "name": "python",
   "nbconvert_exporter": "python",
   "pygments_lexer": "ipython3",
   "version": "3.10.8"
  }
 },
 "nbformat": 4,
 "nbformat_minor": 5
}
